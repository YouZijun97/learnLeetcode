{
 "cells": [
  {
   "cell_type": "code",
   "execution_count": 45,
   "id": "603c0568",
   "metadata": {},
   "outputs": [],
   "source": [
    "from typing import List, Optional"
   ]
  },
  {
   "cell_type": "markdown",
   "id": "3e5f6eac",
   "metadata": {},
   "source": [
    "## 11.盛最多水的容器\n",
    "给定一个长度为 n 的整数数组 height 。有 n 条垂线，第 i 条线的两个端点是 (i, 0) 和 (i, height[i]) 。\n",
    "\n",
    "找出其中的两条线，使得它们与 x 轴共同构成的容器可以容纳最多的水。\n",
    "\n",
    "\n",
    "返回容器可以储存的最大水量。\n",
    "\n",
    "说明：你不能倾斜容器"
   ]
  },
  {
   "cell_type": "markdown",
   "id": "9d8545ae",
   "metadata": {},
   "source": [
    "输入：[1,8,6,2,5,4,8,3,7]\n",
    "\n",
    "输出：49 \n",
    "\n",
    "解释：图中垂直线代表输入数组 [1,8,6,2,5,4,8,3,7]。在此情况下，容器能够容纳水（表示为蓝色部分）的最大值为 49。"
   ]
  },
  {
   "cell_type": "code",
   "execution_count": 5,
   "id": "01c47f6b",
   "metadata": {},
   "outputs": [],
   "source": [
    "def maxArea(height:List[int])->int:\n",
    "    l1 = len(height)\n",
    "    max_area = 0\n",
    "    # 从左右开始找最小的高度，乘以他们之间的宽度\n",
    "    left, right = 0, l1-1\n",
    "    while left < right:\n",
    "        temp_area = (right-left)*min(height[left], height[right])\n",
    "        max_area = max(temp_area, max_area)\n",
    "        if height[left] > height[right]:\n",
    "            right -= 1\n",
    "        else:\n",
    "            left += 1\n",
    "    return max_area"
   ]
  },
  {
   "cell_type": "code",
   "execution_count": 6,
   "id": "55f6eb16",
   "metadata": {},
   "outputs": [
    {
     "data": {
      "text/plain": [
       "49"
      ]
     },
     "execution_count": 6,
     "metadata": {},
     "output_type": "execute_result"
    }
   ],
   "source": [
    "inputs = [1,8,6,2,5,4,8,3,7]\n",
    "maxArea(inputs)"
   ]
  },
  {
   "cell_type": "markdown",
   "id": "40b5edee",
   "metadata": {},
   "source": [
    "## 15.三数之和\n",
    "给你一个整数数组 nums ，判断是否存在三元组 [nums[i], nums[j], nums[k]] 满足 i != j、i != k 且 j != k ，同时还满足 nums[i] + nums[j] + nums[k] == 0 。请\n",
    "\n",
    "你返回所有和为 0 且不重复的三元组。\n",
    "\n",
    "注意：答案中不可以包含重复的三元组。"
   ]
  },
  {
   "cell_type": "markdown",
   "id": "c8cc4bec",
   "metadata": {},
   "source": [
    "输入：nums = [-1,0,1,2,-1,-4]\n",
    "\n",
    "输出：[[-1,-1,2],[-1,0,1]]\n",
    "\n",
    "解释：\n",
    "\n",
    "nums[0] + nums[1] + nums[2] = (-1) + 0 + 1 = 0 。\n",
    "\n",
    "nums[1] + nums[2] + nums[4] = 0 + 1 + (-1) = 0 。\n",
    "\n",
    "nums[0] + nums[3] + nums[4] = (-1) + 2 + (-1) = 0 。\n",
    "\n",
    "不同的三元组是 [-1,0,1] 和 [-1,-1,2] 。\n",
    "\n",
    "注意，输出的顺序和三元组的顺序并不重要。\n"
   ]
  },
  {
   "cell_type": "code",
   "execution_count": 10,
   "id": "545c056d",
   "metadata": {},
   "outputs": [],
   "source": [
    "def threeSum(nums:List[int])->List[List[int]]:\n",
    "    nums.sort()\n",
    "    l1 = len(nums)\n",
    "    ans = list()\n",
    "    \n",
    "    # 枚举a\n",
    "    for first in range(l1-2):\n",
    "        # 需要和上一次枚举的数不相同\n",
    "        if first > 0 and nums[first] == nums[first-1]:\n",
    "            continue\n",
    "        third = l1-1\n",
    "        target = -nums[first]\n",
    "        for second in range(first+1, l1):\n",
    "            # 需要和上一次枚举的数不相同\n",
    "            if second > first+1 and nums[second] == nums[second-1]:\n",
    "                continue\n",
    "                \n",
    "            # 需要保证 b 的指针在 c 的指针的左侧\n",
    "            while second < third and nums[second] + nums[third] > target:\n",
    "                third -= 1\n",
    "            # 如果指针重合，随着 b 后续的增加\n",
    "            # 就不会有满足 a+b+c=0 并且 b<c 的 c 了，可以退出循环\n",
    "            if second == third:\n",
    "                break\n",
    "                \n",
    "            if nums[second] + nums[third] == target:\n",
    "                ans.append([nums[first], nums[second], nums[third]])\n",
    "\n",
    "    return ans"
   ]
  },
  {
   "cell_type": "code",
   "execution_count": 11,
   "id": "dd2a2cb9",
   "metadata": {},
   "outputs": [
    {
     "data": {
      "text/plain": [
       "[[-1, -1, 2], [-1, 0, 1]]"
      ]
     },
     "execution_count": 11,
     "metadata": {},
     "output_type": "execute_result"
    }
   ],
   "source": [
    "inputs = [-1,0,1,2,-1,-4]\n",
    "threeSum(inputs)"
   ]
  },
  {
   "cell_type": "markdown",
   "id": "0c5b323f",
   "metadata": {},
   "source": [
    "## 19. 删除链表的倒数第 N 个结点\n",
    "给你一个链表，删除链表的倒数第 n 个结点，并且返回链表的头结点。"
   ]
  },
  {
   "cell_type": "markdown",
   "id": "be5c44b0",
   "metadata": {},
   "source": [
    "输入：head = [1,2,3,4,5], n = 2\n",
    "\n",
    "输出：[1,2,3,5]"
   ]
  },
  {
   "cell_type": "code",
   "execution_count": 14,
   "id": "1813000f",
   "metadata": {},
   "outputs": [],
   "source": [
    "class ListNode:\n",
    "    def __init__(self, val=0, next=None):\n",
    "        self.val = val\n",
    "        self.next = next\n",
    "\n",
    "def removeNthFromEnd(head: ListNode, n: int) -> ListNode:\n",
    "        dummy = ListNode(0, head)\n",
    "        first = head\n",
    "        second = dummy\n",
    "        for i in range(n):\n",
    "            first = first.next\n",
    "\n",
    "        while first:\n",
    "            first = first.next\n",
    "            second = second.next\n",
    "        \n",
    "        second.next = second.next.next\n",
    "        return dummy.next"
   ]
  },
  {
   "cell_type": "code",
   "execution_count": null,
   "id": "3ea23888",
   "metadata": {},
   "outputs": [],
   "source": []
  },
  {
   "cell_type": "markdown",
   "id": "092b23d4",
   "metadata": {},
   "source": [
    "## 31. 下一个排列\n",
    "整数数组的一个 排列  就是将其所有成员以序列或线性顺序排列。\n",
    "\n",
    "例如，arr = [1,2,3] ，以下这些都可以视作 arr 的排列：[1,2,3]、[1,3,2]、[3,1,2]、[2,3,1] 。\n",
    "整数数组的 下一个排列 是指其整数的下一个字典序更大的排列。更正式地，如果数组的所有排列根据其字典顺序从小到大排列在一个容器中，那么数组的 下一个排列 就是在这个有序容器中排在它后面的那个排列。如果不存在下一个更大的排列，那么这个数组必须重排为字典序最小的排列（即，其元素按升序排列）。\n",
    "\n",
    "例如，arr = [1,2,3] 的下一个排列是 [1,3,2] 。\n",
    "类似地，arr = [2,3,1] 的下一个排列是 [3,1,2] 。\n",
    "而 arr = [3,2,1] 的下一个排列是 [1,2,3] ，因为 [3,2,1] 不存在一个字典序更大的排列。\n",
    "给你一个整数数组 nums ，找出 nums 的下一个排列。\n",
    "\n",
    "必须 原地 修改，只允许使用额外常数空间。"
   ]
  },
  {
   "cell_type": "markdown",
   "id": "8d978b0c",
   "metadata": {},
   "source": [
    "输入：nums = [1,2,3]\n",
    "\n",
    "输出：[1,3,2]\n",
    "\n",
    "输入：nums = [3,2,1]\n",
    "\n",
    "输出：[1,2,3]"
   ]
  },
  {
   "cell_type": "code",
   "execution_count": 35,
   "id": "80f6abd9",
   "metadata": {},
   "outputs": [],
   "source": [
    "def nextPermutation(nums: List[int]) -> None:\n",
    "    #从右往左找到第一个破坏递减序列的数a\n",
    "    #从右往左找到第一个大于a的数b\n",
    "    #交换ab位置\n",
    "    #若已是最大序列则反转数组\n",
    "    l1 = len(nums)\n",
    "    i = l1-2\n",
    "    while i >=0 and nums[i] >= nums[i+1]:\n",
    "        i -= 1\n",
    "    if i >= 0:\n",
    "        j = l1-1\n",
    "        while j >= 0 and nums[j] <= nums[i]:\n",
    "            j -= 1\n",
    "        nums[i], nums[j] = nums[j], nums[i]\n",
    "        temp = nums[i+1:]\n",
    "        temp.reverse()\n",
    "        nums[i+1:] = temp\n",
    "    else:\n",
    "        nums.reverse()\n",
    "        "
   ]
  },
  {
   "cell_type": "code",
   "execution_count": 36,
   "id": "1d454de6",
   "metadata": {},
   "outputs": [
    {
     "name": "stdout",
     "output_type": "stream",
     "text": [
      "[1, 3, 2]\n"
     ]
    }
   ],
   "source": [
    "inputs = [1, 2, 3]\n",
    "nextPermutation(inputs)\n",
    "print(inputs)"
   ]
  },
  {
   "cell_type": "code",
   "execution_count": 37,
   "id": "0122e328",
   "metadata": {},
   "outputs": [
    {
     "name": "stdout",
     "output_type": "stream",
     "text": [
      "[2, 1, 3]\n"
     ]
    }
   ],
   "source": [
    "inputs = [1,3,2]\n",
    "nextPermutation(inputs)\n",
    "print(inputs)"
   ]
  },
  {
   "cell_type": "markdown",
   "id": "63b043ef",
   "metadata": {},
   "source": [
    "## 42. 接雨水\n",
    "给定 n 个非负整数表示每个宽度为 1 的柱子的高度图，计算按此排列的柱子，下雨之后能接多少雨水。"
   ]
  },
  {
   "cell_type": "markdown",
   "id": "8e87b397",
   "metadata": {},
   "source": [
    "输入：height = [0,1,0,2,1,0,1,3,2,1,2,1]\n",
    "\n",
    "输出：6\n",
    "\n",
    "解释：上面是由数组 [0,1,0,2,1,0,1,3,2,1,2,1] 表示的高度图，在这种情况下，可以接 6 个单位的雨水（蓝色部分表示雨水）。 "
   ]
  },
  {
   "cell_type": "code",
   "execution_count": 38,
   "id": "84e68f23",
   "metadata": {},
   "outputs": [],
   "source": [
    "def trap(height: List[int]) -> int:\n",
    "        answer = 0\n",
    "        l1 = len(height)\n",
    "        left = [height[0]]*l1\n",
    "        right = [height[-1]]*l1\n",
    "        for i in range(1, l1):\n",
    "            left[i] = max(left[i-1], height[i])\n",
    "            right[-i-1] = max(right[-i], height[-i-1])\n",
    "        for i,he in enumerate(height):\n",
    "            answer += min(left[i], right[i]) - he\n",
    "        return answer"
   ]
  },
  {
   "cell_type": "code",
   "execution_count": 39,
   "id": "9ddb6b8e",
   "metadata": {},
   "outputs": [
    {
     "data": {
      "text/plain": [
       "6"
      ]
     },
     "execution_count": 39,
     "metadata": {},
     "output_type": "execute_result"
    }
   ],
   "source": [
    "height = [0,1,0,2,1,0,1,3,2,1,2,1]\n",
    "trap(height)"
   ]
  },
  {
   "cell_type": "markdown",
   "id": "9f31af3a",
   "metadata": {},
   "source": [
    "## 75. 颜色分类\n",
    "给定一个包含红色、白色和蓝色、共 n 个元素的数组 nums ，原地对它们进行排序，使得相同颜色的元素相邻，并按照红色、白色、蓝色顺序排列。\n",
    "\n",
    "我们使用整数 0、 1 和 2 分别表示红色、白色和蓝色。\n",
    "\n",
    "必须在不使用库内置的 sort 函数的情况下解决这个问题。"
   ]
  },
  {
   "cell_type": "markdown",
   "id": "79909091",
   "metadata": {},
   "source": [
    "输入：nums = [2,0,2,1,1,0]\n",
    "\n",
    "输出：[0,0,1,1,2,2]\n",
    "\n",
    "输入：nums = [2,0,1]\n",
    "\n",
    "输出：[0,1,2]"
   ]
  },
  {
   "cell_type": "code",
   "execution_count": 40,
   "id": "6c503f58",
   "metadata": {},
   "outputs": [],
   "source": [
    "def sortColors(nums: List[int]) -> None:\n",
    "        \"\"\"\n",
    "        Do not return anything, modify nums in-place instead.\n",
    "        \"\"\"\n",
    "\n",
    "        n = len(nums)\n",
    "        p0 = p1 = 0\n",
    "        for i in range(n):\n",
    "            if nums[i] == 1:\n",
    "                nums[i], nums[p1] = nums[p1], nums[i]\n",
    "                p1 += 1\n",
    "            elif nums[i] == 0:\n",
    "                nums[i], nums[p0] = nums[p0], nums[i]\n",
    "                if p0 < p1:\n",
    "                    nums[i], nums[p1] = nums[p1], nums[i]\n",
    "                p0 += 1\n",
    "                p1 += 1"
   ]
  },
  {
   "cell_type": "code",
   "execution_count": 42,
   "id": "d5a57718",
   "metadata": {},
   "outputs": [
    {
     "data": {
      "text/plain": [
       "[0, 0, 1, 1, 2, 2]"
      ]
     },
     "execution_count": 42,
     "metadata": {},
     "output_type": "execute_result"
    }
   ],
   "source": [
    "nums = [2,0,2,1,1,0]\n",
    "sortColors(nums)\n",
    "nums"
   ]
  },
  {
   "cell_type": "markdown",
   "id": "ee75cf33",
   "metadata": {},
   "source": [
    "## 141. 环形链表\n",
    "给你一个链表的头节点 head ，判断链表中是否有环。\n",
    "\n",
    "如果链表中有某个节点，可以通过连续跟踪 next 指针再次到达，则链表中存在环。 为了表示给定链表中的环，评测系统内部使用整数 pos 来表示链表尾连接到链表中的位置（索引从 0 开始）。注意：pos 不作为参数进行传递 。仅仅是为了标识链表的实际情况。\n",
    "\n",
    "如果链表中存在环 ，则返回 true 。 否则，返回 false 。"
   ]
  },
  {
   "cell_type": "markdown",
   "id": "4693a63a",
   "metadata": {},
   "source": [
    "输入：head = [3,2,0,-4], pos = 1\n",
    "\n",
    "输出：true\n",
    "\n",
    "解释：链表中有一个环，其尾部连接到第二个节点。"
   ]
  },
  {
   "cell_type": "code",
   "execution_count": 43,
   "id": "598d5344",
   "metadata": {},
   "outputs": [],
   "source": [
    "# Definition for singly-linked list.\n",
    "class ListNode:\n",
    "    def __init__(self, x):\n",
    "        self.val = x\n",
    "        self.next = None\n",
    "\n",
    "class Solution:\n",
    "    def hasCycle(self, head: ListNode) -> bool:\n",
    "        #设置快慢指针，如果链表有环一定会相等\n",
    "        if head is None or head.next is None:\n",
    "            return False\n",
    "        slow_p, fast_p = head, head.next\n",
    "        while slow_p != fast_p:\n",
    "            if fast_p is None or fast_p.next is None:\n",
    "                return False\n",
    "            slow_p = slow_p.next\n",
    "            fast_p = fast_p.next.next\n",
    "        return True"
   ]
  },
  {
   "cell_type": "code",
   "execution_count": null,
   "id": "499c41f9",
   "metadata": {},
   "outputs": [],
   "source": []
  },
  {
   "cell_type": "markdown",
   "id": "5b3141de",
   "metadata": {},
   "source": [
    "## 142. 环形链表 II\n",
    "给定一个链表的头节点  head ，返回链表开始入环的第一个节点。 如果链表无环，则返回 null。\n",
    "\n",
    "如果链表中有某个节点，可以通过连续跟踪 next 指针再次到达，则链表中存在环。 为了表示给定链表中的环，评测系统内部使用整数 pos 来表示链表尾连接到链表中的位置（索引从 0 开始）。如果 pos 是 -1，则在该链表中没有环。注意：pos 不作为参数进行传递，仅仅是为了标识链表的实际情况。"
   ]
  },
  {
   "cell_type": "markdown",
   "id": "c6bf2c61",
   "metadata": {},
   "source": [
    "输入：head = [3,2,0,-4], pos = 1\n",
    "\n",
    "输出：返回索引为 1 的链表节点\n",
    "\n",
    "解释：链表中有一个环，其尾部连接到第二个节点。"
   ]
  },
  {
   "cell_type": "code",
   "execution_count": 44,
   "id": "8c54d940",
   "metadata": {},
   "outputs": [],
   "source": [
    "# Definition for singly-linked list.\n",
    "class ListNode:\n",
    "    def __init__(self, x):\n",
    "        self.val = x\n",
    "        self.next = None\n",
    "\n",
    "class Solution:\n",
    "    def detectCycle(self, head: ListNode) -> ListNode:\n",
    "        # slow = s\n",
    "        # fast = f  \n",
    "        # f = 2s = s + nb   b表示环的节点数\n",
    "        # s = nb\n",
    "        # 环起始点 a + nb\n",
    "        slow, fast = head, head\n",
    "        while fast and fast.next:\n",
    "            fast = fast.next.next\n",
    "            slow = slow.next\n",
    "            if slow == fast:\n",
    "                break\n",
    "        if not fast or not fast.next:\n",
    "            return None\n",
    "        answer = head\n",
    "        while slow != answer:\n",
    "            answer = answer.next\n",
    "            slow = slow.next\n",
    "        return answer"
   ]
  },
  {
   "cell_type": "markdown",
   "id": "9e9a4232",
   "metadata": {},
   "source": [
    "## 148. 排序链表\n",
    "给你链表的头结点 head ，请将其按 升序 排列并返回 排序后的链表"
   ]
  },
  {
   "cell_type": "markdown",
   "id": "ee77ab17",
   "metadata": {},
   "source": [
    "输入：head = [4,2,1,3]\n",
    "\n",
    "输出：[1,2,3,4]"
   ]
  },
  {
   "cell_type": "code",
   "execution_count": 46,
   "id": "77f0f280",
   "metadata": {},
   "outputs": [],
   "source": [
    "# Definition for singly-linked list.\n",
    "class ListNode:\n",
    "    def __init__(self, val=0, next=None):\n",
    "        self.val = val\n",
    "        self.next = next\n",
    "class Solution:\n",
    "    def sortList(self, head: Optional[ListNode]) -> Optional[ListNode]:\n",
    "        list1 = []\n",
    "        while head:\n",
    "            list1.append(head.val)\n",
    "            head = head.next\n",
    "        list1 = sorted(list1)\n",
    "        new_node = ListNode()\n",
    "        head = new_node\n",
    "        for val in list1:\n",
    "            new_node.next = ListNode(val)\n",
    "            new_node = new_node.next\n",
    "        return head.next"
   ]
  },
  {
   "cell_type": "markdown",
   "id": "cce8cde4",
   "metadata": {},
   "source": [
    "## 160. 相交链表"
   ]
  },
  {
   "cell_type": "markdown",
   "id": "ef8b9a16",
   "metadata": {},
   "source": [
    "## 234. 回文链表"
   ]
  },
  {
   "cell_type": "markdown",
   "id": "52569486",
   "metadata": {},
   "source": [
    "## 253. 会议室 II\n",
    "给你一个会议时间安排的数组 intervals ，每个会议时间都会包括开始和结束的时间 intervals[i] = [starti, endi] ，返回 所需会议室的最小数量 。"
   ]
  },
  {
   "cell_type": "markdown",
   "id": "66121095",
   "metadata": {},
   "source": [
    "输入：intervals = [[0,30],[5,10],[15,20]]\n",
    "\n",
    "输出：2\n",
    "\n",
    "输入：intervals = [[0,30],[5,10],[15,20]]\n",
    "\n",
    "输出：2"
   ]
  },
  {
   "cell_type": "code",
   "execution_count": 50,
   "id": "55408f8a",
   "metadata": {},
   "outputs": [],
   "source": [
    "import heapq\n",
    "def minMeetingRooms(intervals: List[List[int]]) -> int:\n",
    "        if not intervals:\n",
    "            return 0\n",
    "\n",
    "        intervals.sort(key=lambda x:x[0])\n",
    "        \n",
    "        rooms = []\n",
    "\n",
    "        heapq.heappush(rooms, intervals[0][1])\n",
    "\n",
    "        for i in intervals[1:]:\n",
    "            if i[0]>=rooms[0]:\n",
    "                heapq.heappop(rooms)\n",
    "            heapq.heappush(rooms, i[1])\n",
    "\n",
    "        return len(rooms)"
   ]
  },
  {
   "cell_type": "code",
   "execution_count": 51,
   "id": "0b32b146",
   "metadata": {},
   "outputs": [
    {
     "data": {
      "text/plain": [
       "2"
      ]
     },
     "execution_count": 51,
     "metadata": {},
     "output_type": "execute_result"
    }
   ],
   "source": [
    "intervals = [[0,30],[5,10],[15,20]]\n",
    "minMeetingRooms(intervals)"
   ]
  },
  {
   "cell_type": "markdown",
   "id": "bb88fb16",
   "metadata": {},
   "source": [
    "## 283. 移动零\n",
    "给定一个数组 nums，编写一个函数将所有 0 移动到数组的末尾，同时保持非零元素的相对顺序。\n",
    "\n",
    "请注意 ，必须在不复制数组的情况下原地对数组进行操作。"
   ]
  },
  {
   "cell_type": "markdown",
   "id": "54e91db3",
   "metadata": {},
   "source": [
    "输入: nums = [0,1,0,3,12]\n",
    "\n",
    "输出: [1,3,12,0,0]"
   ]
  },
  {
   "cell_type": "markdown",
   "id": "ca496ec6",
   "metadata": {},
   "source": [
    "## 287. 寻找重复数\n",
    "给定一个包含 n + 1 个整数的数组 nums ，其数字都在 [1, n] 范围内（包括 1 和 n），可知至少存在一个重复的整数。\n",
    "\n",
    "假设 nums 只有 一个重复的整数 ，返回 这个重复的数 。\n",
    "\n",
    "你设计的解决方案必须 不修改 数组 nums 且只用常量级 O(1) 的额外空间。"
   ]
  },
  {
   "cell_type": "markdown",
   "id": "056dba6a",
   "metadata": {},
   "source": [
    "输入：nums = [1,3,4,2,2]\n",
    "\n",
    "输出：2\n",
    "\n",
    "输入：nums = [3,1,3,4,2]\n",
    "\n",
    "输出：3"
   ]
  },
  {
   "cell_type": "code",
   "execution_count": 54,
   "id": "f85f8cd2",
   "metadata": {},
   "outputs": [],
   "source": [
    "def findDuplicate(nums: List[int]) -> int:\n",
    "    # 所有值都小于len（nums)\n",
    "    slow, fast = nums[0],nums[nums[0]]\n",
    "    while slow != fast:\n",
    "        slow = nums[slow]\n",
    "        fast = nums[nums[fast]]\n",
    "    slow = 0\n",
    "    while slow!=fast:\n",
    "        slow = nums[slow]\n",
    "        fast = nums[fast]\n",
    "    return slow"
   ]
  },
  {
   "cell_type": "code",
   "execution_count": 55,
   "id": "a1d3d9c4",
   "metadata": {},
   "outputs": [
    {
     "data": {
      "text/plain": [
       "3"
      ]
     },
     "execution_count": 55,
     "metadata": {},
     "output_type": "execute_result"
    }
   ],
   "source": [
    "nums = [3,1,3,4,2]\n",
    "findDuplicate(nums)"
   ]
  },
  {
   "cell_type": "markdown",
   "id": "5c2614eb",
   "metadata": {},
   "source": [
    "## 581. 最短无序连续子数组\n",
    "给你一个整数数组 nums ，你需要找出一个 连续子数组 ，如果对这个子数组进行升序排序，那么整个数组都会变为升序排序。\n",
    "\n",
    "请你找出符合题意的 最短 子数组，并输出它的长度。\n",
    "\n",
    "输入：nums = [2,6,4,8,10,9,15]\n",
    "\n",
    "输出：5\n",
    "\n",
    "解释：你只需要对 [6, 4, 8, 10, 9] 进行升序排序，那么整个表都会变为升序排序。"
   ]
  },
  {
   "cell_type": "code",
   "execution_count": 56,
   "id": "a78bf2d6",
   "metadata": {},
   "outputs": [],
   "source": [
    "\n",
    "def findUnsortedSubarray(nums: List[int]) -> int:\n",
    "    n = len(nums)\n",
    "    maxn, right = float(\"-inf\"), -1\n",
    "    minn, left = float(\"inf\"), -1\n",
    "\n",
    "    for i in range(n):\n",
    "        # 如果maxn 大于nums[i], 说明此处不严格递增\n",
    "        if maxn > nums[i]:\n",
    "            right = i\n",
    "        else:\n",
    "            maxn = nums[i]\n",
    "        # 如果minn 大于nums[n-i-1], 说明此处不严格递减\n",
    "        if minn < nums[n - i - 1]:\n",
    "            left = n - i - 1\n",
    "        else:\n",
    "            minn = nums[n - i - 1]\n",
    "\n",
    "    return 0 if right == -1 else right - left + 1\n"
   ]
  },
  {
   "cell_type": "code",
   "execution_count": 57,
   "id": "e3577bdb",
   "metadata": {},
   "outputs": [
    {
     "data": {
      "text/plain": [
       "5"
      ]
     },
     "execution_count": 57,
     "metadata": {},
     "output_type": "execute_result"
    }
   ],
   "source": [
    "nums = [2,6,4,8,10,9,15]\n",
    "findUnsortedSubarray(nums)"
   ]
  },
  {
   "cell_type": "code",
   "execution_count": null,
   "id": "de760b71",
   "metadata": {},
   "outputs": [],
   "source": []
  }
 ],
 "metadata": {
  "kernelspec": {
   "display_name": "Python 3 (ipykernel)",
   "language": "python",
   "name": "python3"
  },
  "language_info": {
   "codemirror_mode": {
    "name": "ipython",
    "version": 3
   },
   "file_extension": ".py",
   "mimetype": "text/x-python",
   "name": "python",
   "nbconvert_exporter": "python",
   "pygments_lexer": "ipython3",
   "version": "3.9.13"
  }
 },
 "nbformat": 4,
 "nbformat_minor": 5
}
